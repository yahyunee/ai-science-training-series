{
  "cells": [
    {
      "cell_type": "markdown",
      "metadata": {
        "id": "yn7yOFlWpoBH"
      },
      "source": [
        "# Introduction to Neural Networks\n",
        "Author: Marieme Ngom, adapting materials from Bethany Lusch, Asad Khan, Prasanna Balaprakash, Taylor Childers, Corey Adams, Kyle Felker, and Tanwi Mallick.\n",
        "\n",
        "This tutorial will serve as a gentle introduction to neural networks and deep learning through a hands-on classification problem using the MNIST dataset.\n",
        "\n",
        "In particular, we will introduce neural networks and how to train and improve their learning capabilities.  We will use the PyTorch Python library.\n",
        "\n",
        "The [MNIST dataset](http://yann.lecun.com/exdb/mnist/) contains thousands of examples of handwritten numbers, with each digit labeled 0-9.\n",
        "<img src=\"https://github.com/argonne-lcf/ai-science-training-series/blob/main/02_intro_neural_networks/images/mnist_task.png?raw=1\"  align=\"left\"/>\n",
        "\n"
      ]
    },
    {
      "cell_type": "code",
      "execution_count": 1,
      "metadata": {
        "id": "k1zVU9C0poBK"
      },
      "outputs": [],
      "source": [
        "%matplotlib inline\n",
        "\n",
        "import torch\n",
        "import torchvision\n",
        "from torch import nn\n",
        "\n",
        "import numpy\n",
        "import matplotlib.pyplot as plt\n",
        "import time"
      ]
    },
    {
      "cell_type": "markdown",
      "metadata": {
        "id": "-9TpdlrLpoBL"
      },
      "source": [
        "## The MNIST dataset\n",
        "\n",
        "We will now download the dataset that contains handwritten digits. MNIST is a popular dataset, so we can download it via the PyTorch library. Note:\n",
        "- x is for the inputs (images of handwritten digits) and y is for the labels or outputs (digits 0-9)\n",
        "- We are given \"training\" and \"test\" datasets. Training datasets are used to fit the model. Test datasets are saved until the end, when we are satisfied with our model, to estimate how well our model generalizes to new data.\n",
        "\n",
        "Note that downloading it the first time might take some time.\n",
        "The data is split as follows:\n",
        "- 60,000 training examples, 10,000 test examples\n",
        "- inputs: 1 x 28 x 28 pixels\n",
        "- outputs (labels): one integer per example"
      ]
    },
    {
      "cell_type": "code",
      "execution_count": 2,
      "metadata": {
        "colab": {
          "base_uri": "https://localhost:8080/"
        },
        "id": "UVL1FmzNpoBL",
        "outputId": "5e87b8cd-1263-4bf8-e937-f417ccbd0dea"
      },
      "outputs": [
        {
          "output_type": "stream",
          "name": "stdout",
          "text": [
            "Downloading http://yann.lecun.com/exdb/mnist/train-images-idx3-ubyte.gz\n",
            "Failed to download (trying next):\n",
            "<urlopen error [SSL: CERTIFICATE_VERIFY_FAILED] certificate verify failed: certificate has expired (_ssl.c:1007)>\n",
            "\n",
            "Downloading https://ossci-datasets.s3.amazonaws.com/mnist/train-images-idx3-ubyte.gz\n",
            "Downloading https://ossci-datasets.s3.amazonaws.com/mnist/train-images-idx3-ubyte.gz to data/MNIST/raw/train-images-idx3-ubyte.gz\n"
          ]
        },
        {
          "output_type": "stream",
          "name": "stderr",
          "text": [
            "100%|██████████| 9.91M/9.91M [00:00<00:00, 54.2MB/s]\n"
          ]
        },
        {
          "output_type": "stream",
          "name": "stdout",
          "text": [
            "Extracting data/MNIST/raw/train-images-idx3-ubyte.gz to data/MNIST/raw\n",
            "\n",
            "Downloading http://yann.lecun.com/exdb/mnist/train-labels-idx1-ubyte.gz\n",
            "Failed to download (trying next):\n",
            "<urlopen error [SSL: CERTIFICATE_VERIFY_FAILED] certificate verify failed: certificate has expired (_ssl.c:1007)>\n",
            "\n",
            "Downloading https://ossci-datasets.s3.amazonaws.com/mnist/train-labels-idx1-ubyte.gz\n",
            "Downloading https://ossci-datasets.s3.amazonaws.com/mnist/train-labels-idx1-ubyte.gz to data/MNIST/raw/train-labels-idx1-ubyte.gz\n"
          ]
        },
        {
          "output_type": "stream",
          "name": "stderr",
          "text": [
            "100%|██████████| 28.9k/28.9k [00:00<00:00, 1.67MB/s]\n"
          ]
        },
        {
          "output_type": "stream",
          "name": "stdout",
          "text": [
            "Extracting data/MNIST/raw/train-labels-idx1-ubyte.gz to data/MNIST/raw\n",
            "\n",
            "Downloading http://yann.lecun.com/exdb/mnist/t10k-images-idx3-ubyte.gz\n",
            "Failed to download (trying next):\n",
            "<urlopen error [SSL: CERTIFICATE_VERIFY_FAILED] certificate verify failed: certificate has expired (_ssl.c:1007)>\n",
            "\n",
            "Downloading https://ossci-datasets.s3.amazonaws.com/mnist/t10k-images-idx3-ubyte.gz\n",
            "Downloading https://ossci-datasets.s3.amazonaws.com/mnist/t10k-images-idx3-ubyte.gz to data/MNIST/raw/t10k-images-idx3-ubyte.gz\n"
          ]
        },
        {
          "output_type": "stream",
          "name": "stderr",
          "text": [
            "100%|██████████| 1.65M/1.65M [00:00<00:00, 13.5MB/s]\n"
          ]
        },
        {
          "output_type": "stream",
          "name": "stdout",
          "text": [
            "Extracting data/MNIST/raw/t10k-images-idx3-ubyte.gz to data/MNIST/raw\n",
            "\n",
            "Downloading http://yann.lecun.com/exdb/mnist/t10k-labels-idx1-ubyte.gz\n",
            "Failed to download (trying next):\n",
            "<urlopen error [SSL: CERTIFICATE_VERIFY_FAILED] certificate verify failed: certificate has expired (_ssl.c:1007)>\n",
            "\n",
            "Downloading https://ossci-datasets.s3.amazonaws.com/mnist/t10k-labels-idx1-ubyte.gz\n",
            "Downloading https://ossci-datasets.s3.amazonaws.com/mnist/t10k-labels-idx1-ubyte.gz to data/MNIST/raw/t10k-labels-idx1-ubyte.gz\n"
          ]
        },
        {
          "output_type": "stream",
          "name": "stderr",
          "text": [
            "100%|██████████| 4.54k/4.54k [00:00<00:00, 7.36MB/s]"
          ]
        },
        {
          "output_type": "stream",
          "name": "stdout",
          "text": [
            "Extracting data/MNIST/raw/t10k-labels-idx1-ubyte.gz to data/MNIST/raw\n",
            "\n"
          ]
        },
        {
          "output_type": "stream",
          "name": "stderr",
          "text": [
            "\n"
          ]
        }
      ],
      "source": [
        "training_data = torchvision.datasets.MNIST(\n",
        "    root=\"data\",\n",
        "    train=True,\n",
        "    download=True,\n",
        "    transform=torchvision.transforms.ToTensor()\n",
        ")\n",
        "\n",
        "test_data = torchvision.datasets.MNIST(\n",
        "    root=\"data\",\n",
        "    train=False,\n",
        "    download=True,\n",
        "    transform=torchvision.transforms.ToTensor()\n",
        ")"
      ]
    },
    {
      "cell_type": "code",
      "execution_count": 3,
      "metadata": {
        "id": "YtKGPhcYpoBM"
      },
      "outputs": [],
      "source": [
        "train_size = int(0.8 * len(training_data))  # 80% for training\n",
        "val_size = len(training_data) - train_size  # Remaining 20% for validation\n",
        "training_data, validation_data = torch.utils.data.random_split(training_data, [train_size, val_size], generator=torch.Generator().manual_seed(55))"
      ]
    },
    {
      "cell_type": "code",
      "execution_count": 4,
      "metadata": {
        "colab": {
          "base_uri": "https://localhost:8080/"
        },
        "id": "l-jU_q0wpoBM",
        "outputId": "8d1f1f27-48df-4888-a667-dd9e5066d3c1"
      },
      "outputs": [
        {
          "output_type": "stream",
          "name": "stdout",
          "text": [
            "MNIST data loaded: train: 48000  examples, validation:  12000 examples, test: 10000 examples\n",
            "Input shape torch.Size([1, 28, 28])\n"
          ]
        }
      ],
      "source": [
        "print('MNIST data loaded: train:',len(training_data),' examples, validation: ', len(validation_data), 'examples, test:',len(test_data), 'examples')\n",
        "print('Input shape', training_data[0][0].shape)"
      ]
    },
    {
      "cell_type": "markdown",
      "metadata": {
        "id": "9h6gRmNupoBM"
      },
      "source": [
        "Let's take a closer look. Here are the first 10 training digits:"
      ]
    },
    {
      "cell_type": "code",
      "execution_count": 5,
      "metadata": {
        "colab": {
          "base_uri": "https://localhost:8080/",
          "height": 125
        },
        "id": "_oR-nRJ9poBN",
        "outputId": "e434f022-0ea7-44d1-d449-b9379186e4e7"
      },
      "outputs": [
        {
          "output_type": "display_data",
          "data": {
            "text/plain": [
              "<Figure size 1000x100 with 10 Axes>"
            ],
            "image/png": "[encoded data removed]"
          },
          "metadata": {}
        }
      ],
      "source": [
        "pltsize=1\n",
        "plt.figure(figsize=(10*pltsize, pltsize))\n",
        "\n",
        "for i in range(10):\n",
        "    plt.subplot(1,10,i+1)\n",
        "    plt.axis('off')\n",
        "    plt.imshow(numpy.reshape(training_data[i][0], (28, 28)), cmap=\"gray\")\n",
        "    plt.title('Class: '+str(training_data[i][1]))"
      ]
    },
    {
      "cell_type": "markdown",
      "metadata": {
        "id": "u9R5gic-poBN"
      },
      "source": [
        "# Generalities:\n",
        "To train our classifier, we need (besides the data):\n",
        "- A model that depend on parameters $\\mathbf{\\theta}$. Here we are going to use neural networks.\n",
        "- A loss function $J(\\mathbf{\\theta})$ to measure the capabilities of the model.\n",
        "- An optimization method."
      ]
    },
    {
      "cell_type": "markdown",
      "metadata": {
        "id": "Kpup9PEWpoBN"
      },
      "source": [
        "# Linear Model\n",
        "Let's begin with a simple linear model: linear regression, like last week.\n",
        "We add one complication: each example is a vector (flattened image), so the \"slope\" multiplication becomes a dot product. If the target output is a vector as well, then the multiplication becomes matrix multiplication.\n",
        "\n",
        "Note, like before, we consider multiple examples at once, adding another dimension to the input.\n",
        "\n",
        "\n",
        " <img src=\"https://github.com/argonne-lcf/ai-science-training-series/blob/main/02_intro_neural_networks/images/LinearModel_1.png?raw=1\"  align=\"center\"/>\n",
        "\n",
        "\n",
        "\n",
        "The linear layers in PyTorch perform a basic $xW + b$. These \"fully connected\" layers connect each input to each output with some weight parameter. We wouldn't expect a simple linear model $f(x) = xW+b$ directly outputting the class label and minimizing mean squared error to work well - the model would output labels like 3.55 and 2.11 instead of skipping to integers."
      ]
    },
    {
      "cell_type": "markdown",
      "metadata": {
        "id": "EYk2Gi7tpoBO"
      },
      "source": [
        "We now need:\n",
        "- A loss function $J(\\theta)$ where $\\theta$ is the list of parameters (here W and b). Last week, we used mean squared error (MSE), but this week let's make two changes that make more sense for classification:\n",
        "    - Change the output to be a length-10 vector of class probabilities (0 to 1, adding to 1).\n",
        "    - Cross entropy as the loss function, which is typical for classification. You can read more [here](https://gombru.github.io/2018/05/23/cross_entropy_loss/).\n",
        "\n",
        "- An optimization method or optimizer such as the stochastic gradient descent (sgd) method, the Adam optimizer, RMSprop, Adagrad etc. Let's start with stochastic gradient descent (sgd), like last week. For far more information about more advanced optimizers than basic SGD, with some cool animations, see https://ruder.io/optimizing-gradient-descent/ or https://distill.pub/2017/momentum/.\n",
        "\n",
        "- A learning rate. As we learned last week, the learning rate controls how far we move during each step."
      ]
    },
    {
      "cell_type": "code",
      "execution_count": 6,
      "metadata": {
        "id": "gKqJRU5GpoBO"
      },
      "outputs": [],
      "source": [
        "class LinearClassifier(nn.Module):\n",
        "\n",
        "    def __init__(self):\n",
        "        super().__init__()\n",
        "\n",
        "        # First, we need to convert the input image to a vector by using\n",
        "        # nn.Flatten(). For MNIST, it means the second dimension 28*28 becomes 784.\n",
        "        self.flatten = nn.Flatten()\n",
        "\n",
        "        # Here, we add a fully connected (\"dense\") layer that has 28 x 28 = 784 input nodes\n",
        "        #(one for each pixel in the input image) and 10 output nodes (for probabilities of each class).\n",
        "        self.layer_1 = nn.Linear(28*28, 10)\n",
        "\n",
        "    def forward(self, x):\n",
        "\n",
        "        x = self.flatten(x)\n",
        "        x = self.layer_1(x)\n",
        "\n",
        "        return x"
      ]
    },
    {
      "cell_type": "code",
      "execution_count": 7,
      "metadata": {
        "colab": {
          "base_uri": "https://localhost:8080/"
        },
        "id": "M-IJ4tH9poBO",
        "outputId": "f465c612-8738-411e-c4ef-ddecbb51477e"
      },
      "outputs": [
        {
          "output_type": "stream",
          "name": "stdout",
          "text": [
            "LinearClassifier(\n",
            "  (flatten): Flatten(start_dim=1, end_dim=-1)\n",
            "  (layer_1): Linear(in_features=784, out_features=10, bias=True)\n",
            ")\n"
          ]
        }
      ],
      "source": [
        "linear_model = LinearClassifier()\n",
        "print(linear_model)\n",
        "\n",
        "loss_fn = nn.CrossEntropyLoss()\n",
        "optimizer = torch.optim.SGD(linear_model.parameters(), lr=0.05)"
      ]
    },
    {
      "cell_type": "markdown",
      "metadata": {
        "id": "REefFLaTpoBO"
      },
      "source": [
        "# Learning\n",
        "Now we are ready to train our first model. A training step is comprised of:\n",
        "- A forward pass: the input is passed through the network\n",
        "- Backpropagation: A backward pass to compute the gradient $\\frac{\\partial J}{\\partial \\mathbf{W}}$ of the loss function with respect to the parameters of the network.\n",
        "- Weight updates $\\mathbf{W} = \\mathbf{W} - \\alpha \\frac{\\partial J}{\\partial \\mathbf{W}} $ where $\\alpha$ is the learning rate.\n",
        "\n",
        "How many steps do we take?\n",
        "- The batch size corresponds to the number of training examples in one pass (forward + backward). A smaller batch size allows the model to learn from individual examples but takes longer to train. A larger batch size requires fewer steps but may result in the model not capturing the nuances in the data. The higher the batch size, the more memory you will require.  \n",
        "- An epoch means one pass through the whole training data (looping over the batches). Using few epochs can lead to underfitting and using too many can lead to overfitting.\n",
        "- The choice of batch size and learning rate are important for performance, generalization and accuracy in deep learning.\n",
        "\n",
        "\n",
        "\n",
        "\n"
      ]
    },
    {
      "cell_type": "code",
      "execution_count": 8,
      "metadata": {
        "id": "OgOVRfMqpoBO"
      },
      "outputs": [],
      "source": [
        "batch_size = 128\n",
        "\n",
        "# The dataloader makes our dataset iterable\n",
        "train_dataloader = torch.utils.data.DataLoader(training_data, batch_size=batch_size)\n",
        "val_dataloader = torch.utils.data.DataLoader(validation_data, batch_size=batch_size)"
      ]
    },
    {
      "cell_type": "code",
      "execution_count": 9,
      "metadata": {
        "id": "vnWW8HrxpoBO"
      },
      "outputs": [],
      "source": [
        "def train_one_epoch(dataloader, model, loss_fn, optimizer):\n",
        "    model.train()\n",
        "    for batch, (X, y) in enumerate(dataloader):\n",
        "        # forward pass\n",
        "        pred = model(X)\n",
        "        loss = loss_fn(pred, y)\n",
        "\n",
        "        # backward pass calculates gradients\n",
        "        loss.backward()\n",
        "\n",
        "        # take one step with these gradients\n",
        "        optimizer.step()\n",
        "\n",
        "        # resets the gradients\n",
        "        optimizer.zero_grad()"
      ]
    },
    {
      "cell_type": "code",
      "execution_count": 10,
      "metadata": {
        "id": "idXvAUa3poBP"
      },
      "outputs": [],
      "source": [
        "def evaluate(dataloader, model, loss_fn):\n",
        "    # Set the model to evaluation mode - some NN pieces behave differently during training\n",
        "    # Unnecessary in this situation but added for best practices\n",
        "    model.eval()\n",
        "    size = len(dataloader.dataset)\n",
        "    num_batches = len(dataloader)\n",
        "    loss, correct = 0, 0\n",
        "\n",
        "    # We can save computation and memory by not calculating gradients here - we aren't optimizing\n",
        "    with torch.no_grad():\n",
        "        # loop over all of the batches\n",
        "        for X, y in dataloader:\n",
        "            pred = model(X)\n",
        "            loss += loss_fn(pred, y).item()\n",
        "            # how many are correct in this batch? Tracking for accuracy\n",
        "            correct += (pred.argmax(1) == y).type(torch.float).sum().item()\n",
        "\n",
        "    loss /= num_batches\n",
        "    correct /= size\n",
        "\n",
        "    accuracy = 100*correct\n",
        "    return accuracy, loss"
      ]
    },
    {
      "cell_type": "code",
      "execution_count": 11,
      "metadata": {
        "colab": {
          "base_uri": "https://localhost:8080/"
        },
        "id": "OmBVjbC4poBP",
        "outputId": "b9b09dcf-f646-471d-c11b-68786395d3a4"
      },
      "outputs": [
        {
          "output_type": "stream",
          "name": "stdout",
          "text": [
            "Epoch 0: training loss: 0.5031662074724833, accuracy: 87.55416666666666\n",
            "Epoch 0: val. loss: 0.49507750507364884, val. accuracy: 87.66666666666667\n",
            "Epoch 1: training loss: 0.4222960096200307, accuracy: 88.95416666666667\n",
            "Epoch 1: val. loss: 0.4127132321925873, val. accuracy: 88.94166666666666\n",
            "Epoch 2: training loss: 0.3881753177245458, accuracy: 89.63333333333333\n",
            "Epoch 2: val. loss: 0.37806259491976274, val. accuracy: 89.51666666666667\n",
            "Epoch 3: training loss: 0.36813818029562634, accuracy: 90.07916666666667\n",
            "Epoch 3: val. loss: 0.35787114754636234, val. accuracy: 90.01666666666667\n",
            "Epoch 4: training loss: 0.3545158934990565, accuracy: 90.42708333333334\n",
            "Epoch 4: val. loss: 0.3442757838266961, val. accuracy: 90.35833333333333\n",
            "CPU times: user 1min 11s, sys: 163 ms, total: 1min 11s\n",
            "Wall time: 1min 12s\n"
          ]
        }
      ],
      "source": [
        "%%time\n",
        "\n",
        "epochs = 5\n",
        "train_acc_all = []\n",
        "val_acc_all = []\n",
        "for j in range(epochs):\n",
        "    train_one_epoch(train_dataloader, linear_model, loss_fn, optimizer)\n",
        "\n",
        "    # checking on the training loss and accuracy once per epoch\n",
        "    acc, loss = evaluate(train_dataloader, linear_model, loss_fn)\n",
        "    train_acc_all.append(acc)\n",
        "    print(f\"Epoch {j}: training loss: {loss}, accuracy: {acc}\")\n",
        "\n",
        "    # checking on the validation loss and accuracy once per epoch\n",
        "    val_acc, val_loss = evaluate(val_dataloader, linear_model, loss_fn)\n",
        "    val_acc_all.append(val_acc)\n",
        "    print(f\"Epoch {j}: val. loss: {val_loss}, val. accuracy: {val_acc}\")"
      ]
    },
    {
      "cell_type": "code",
      "execution_count": 12,
      "metadata": {
        "colab": {
          "base_uri": "https://localhost:8080/",
          "height": 868
        },
        "id": "focecpL7poBP",
        "outputId": "6eb1bcfe-282c-4a9b-d4e3-61d6b3e9a1f7"
      },
      "outputs": [
        {
          "output_type": "execute_result",
          "data": {
            "text/plain": [
              "<matplotlib.legend.Legend at 0x791030f458d0>"
            ]
          },
          "metadata": {},
          "execution_count": 12
        },
        {
          "output_type": "display_data",
          "data": {
            "text/plain": [
              "<Figure size 1000x1000 with 1 Axes>"
            ],
            "image/png": "[encoded data removed]"
          },
          "metadata": {}
        }
      ],
      "source": [
        "pltsize=1\n",
        "plt.figure(figsize=(10*pltsize, 10 * pltsize))\n",
        "plt.plot(range(epochs), train_acc_all,label = 'Training Acc.' )\n",
        "plt.plot(range(epochs), val_acc_all, label = 'Validation Acc.' )\n",
        "plt.xlabel('Epoch #')\n",
        "plt.ylabel('Loss')\n",
        "plt.legend()"
      ]
    },
    {
      "cell_type": "code",
      "execution_count": 13,
      "metadata": {
        "colab": {
          "base_uri": "https://localhost:8080/",
          "height": 125
        },
        "id": "GdGcWhN8poBP",
        "outputId": "3ccf75e3-fd66-4718-e9dc-edc9b7a7769f"
      },
      "outputs": [
        {
          "output_type": "display_data",
          "data": {
            "text/plain": [
              "<Figure size 1000x100 with 10 Axes>"
            ],
            "image/png": "[encoded data removed]"
          },
          "metadata": {}
        }
      ],
      "source": [
        "# Visualize how the model is doing on the first 10 examples\n",
        "pltsize=1\n",
        "plt.figure(figsize=(10*pltsize, pltsize))\n",
        "linear_model.eval()\n",
        "batch = next(iter(train_dataloader))\n",
        "predictions = linear_model(batch[0])\n",
        "\n",
        "for i in range(10):\n",
        "    plt.subplot(1,10,i+1)\n",
        "    plt.axis('off')\n",
        "    plt.imshow(batch[0][i,0,:,:], cmap=\"gray\")\n",
        "    plt.title('%d' % predictions[i,:].argmax())"
      ]
    },
    {
      "cell_type": "markdown",
      "metadata": {
        "id": "LZQ3-xtfpoBP"
      },
      "source": [
        "Exercise: How can you improve the accuracy? Some things you might consider: increasing the number of epochs, changing the learning rate, etc."
      ]
    },
    {
      "cell_type": "markdown",
      "metadata": {
        "id": "yOu3VZZ1poBP"
      },
      "source": [
        "# Prediction\n",
        "\n",
        "Let's see how our model generalizes to the unseen test data.\n",
        "\n"
      ]
    },
    {
      "cell_type": "code",
      "execution_count": 14,
      "metadata": {
        "id": "aoKVkd9VpoBP"
      },
      "outputs": [],
      "source": [
        "#create dataloader for test data\n",
        "# The dataloader makes our dataset iterable\n",
        "batch_size_test = 256\n",
        "test_dataloader = torch.utils.data.DataLoader(test_data, batch_size=batch_size_test)"
      ]
    },
    {
      "cell_type": "code",
      "execution_count": 15,
      "metadata": {
        "colab": {
          "base_uri": "https://localhost:8080/"
        },
        "id": "hgEb1a78poBP",
        "outputId": "e4ce7c8f-53e3-48d0-e479-c289660cae8f"
      },
      "outputs": [
        {
          "output_type": "stream",
          "name": "stdout",
          "text": [
            "Test loss: 0.3327, test accuracy: 90.83%\n"
          ]
        }
      ],
      "source": [
        "acc_test, loss_test = evaluate(test_dataloader, linear_model, loss_fn)\n",
        "print(\"Test loss: %.4f, test accuracy: %.2f%%\" % (loss_test, acc_test))"
      ]
    },
    {
      "cell_type": "markdown",
      "metadata": {
        "id": "WyxGuBV2poBP"
      },
      "source": [
        "We can now take a closer look at the results.\n",
        "\n",
        "Let's define a helper function to show the failure cases of our classifier."
      ]
    },
    {
      "cell_type": "code",
      "execution_count": 16,
      "metadata": {
        "id": "N4PUkgBEpoBQ"
      },
      "outputs": [],
      "source": [
        "def show_failures(model, dataloader, maxtoshow=10):\n",
        "    model.eval()\n",
        "    batch = next(iter(dataloader))\n",
        "    predictions = model(batch[0])\n",
        "\n",
        "    rounded = predictions.argmax(1)\n",
        "    errors = rounded!=batch[1]\n",
        "    print('Showing max', maxtoshow, 'first failures. '\n",
        "          'The predicted class is shown first and the correct class in parentheses.')\n",
        "    ii = 0\n",
        "    plt.figure(figsize=(maxtoshow, 1))\n",
        "    for i in range(batch[0].shape[0]):\n",
        "        if ii>=maxtoshow:\n",
        "            break\n",
        "        if errors[i]:\n",
        "            plt.subplot(1, maxtoshow, ii+1)\n",
        "            plt.axis('off')\n",
        "            plt.imshow(batch[0][i,0,:,:], cmap=\"gray\")\n",
        "            plt.title(\"%d (%d)\" % (rounded[i], batch[1][i]))\n",
        "            ii = ii + 1"
      ]
    },
    {
      "cell_type": "markdown",
      "metadata": {
        "id": "16E0z7ZYpoBQ"
      },
      "source": [
        "Here are the first 10 images from the test data that this small model classified to a wrong class:\n",
        "\n"
      ]
    },
    {
      "cell_type": "code",
      "execution_count": null,
      "metadata": {
        "id": "Rsl4C8J-poBQ"
      },
      "outputs": [],
      "source": [
        "show_failures(linear_model, test_dataloader)"
      ]
    },
    {
      "cell_type": "markdown",
      "metadata": {
        "id": "7LlfHUiZpoBQ"
      },
      "source": [
        "<!-- # Exercise:\n",
        "- Try changing the loss function,\n",
        "- Try changing the optimizer -->"
      ]
    },
    {
      "cell_type": "markdown",
      "metadata": {
        "id": "tXn77yFOpoBQ"
      },
      "source": [
        "# Multilayer Model\n",
        "Our linear model isn't enough for high accuracy on this dataset. To improve the model, we often need to add more layers and nonlinearities.\n",
        "<img src=\"https://github.com/argonne-lcf/ai-science-training-series/blob/main/02_intro_neural_networks/images/shallow_nn.png?raw=1\"  align=\"left\"/>\n",
        "\n",
        "The output of this NN can be written as\n",
        "\\begin{equation}\\label{eq: NN1d}\n",
        "  \\hat{u}(x) = \\sigma_2(\\sigma_1(\\mathbf{x}\\mathbf{W}_1 + \\mathbf{b}_1)\\mathbf{W}_2 + \\mathbf{b}_2),\n",
        "\\end{equation}\n",
        "where $\\mathbf{x}$ is the input, $\\mathbf{W}_j$ are the weights of the neural network, $\\sigma_j$ the (nonlinear) activation functions, and $\\mathbf{b}_j$ its biases. The activation function introduces the nonlinearity and makes it possible to learn more complex tasks. Desirable properties in an activation function include being differentiable, bounded, and monotonic.\n",
        "\n",
        "\n",
        "Image source: [PragatiBaheti](https://www.v7labs.com/blog/neural-networks-activation-functions)\n",
        "<img src=\"https://github.com/argonne-lcf/ai-science-training-series/blob/main/02_intro_neural_networks/images/activation.jpeg?raw=1\"  align=\"center\"/>\n",
        "\n",
        "Adding more layers to obtain a deep neural network:\n",
        "<img src=\"https://github.com/argonne-lcf/ai-science-training-series/blob/main/02_intro_neural_networks/images/deep_nn_annotated.jpg?raw=1\"  align=\"left\"/>\n",
        "\n",
        "\n",
        "\n",
        "# Important things to know\n",
        "Deep Neural networks can be overly flexible/complicated and \"overfit\" your data, just like fitting overly complicated polynomials:\n",
        "<img src=\"https://github.com/argonne-lcf/ai-science-training-series/blob/main/02_intro_neural_networks/images/bias_vs_variance.png?raw=1\"  align=\"left\"/>\n",
        "\n",
        "\n",
        "Vizualization wrt to the accuracy and loss (Image source: [Baeldung](https://www.baeldung.com/cs/ml-underfitting-overfitting)):\n",
        "<img src=\"https://github.com/argonne-lcf/ai-science-training-series/blob/main/02_intro_neural_networks/images/acc_under_over.webp?raw=1\"  align=\"center\"/>\n",
        "\n",
        "\n",
        "To improve the generalization of our model on previously unseen data, we employ a technique known as regularization, which constrains our optimization problem in order to discourage complex models.\n",
        "\n",
        "  - Dropout is the commonly used regularization technique. The Dropout layer randomly sets input units to 0 with a frequency of rate at each step during training time, which helps prevent overfitting.\n",
        "  - Penalizing the loss function by adding a term such as $\\lambda ||\\mathbf{W}||^2$ is alsp a commonly used regularization technique. This helps \"control\" the magnitude of the weights of the network.\n",
        "    \n",
        "Vanishing gradients: Gradients become small as they propagate backward through the layers. Squashing activation functions like sigmoid or tanh could cause this.\n",
        "\n",
        "Exploding gradients: Gradients grow exponentially usually due to \"poor\" weight initialization.\n",
        "\n",
        "<!--  <img src=\"images/test_data_rule.png\" width=\"800\" hight=\"500\" align=\"center\"/>\n",
        "  -->"
      ]
    },
    {
      "cell_type": "markdown",
      "metadata": {
        "id": "t-GZP20DpoBQ"
      },
      "source": [
        "We can now implement a deep network in PyTorch. nn.Dropout() performs the Dropout operation mentioned earlier"
      ]
    },
    {
      "cell_type": "code",
      "execution_count": null,
      "metadata": {
        "id": "GTJtSyl-poBQ"
      },
      "outputs": [],
      "source": [
        "class NonlinearClassifier(nn.Module):\n",
        "\n",
        "    def __init__(self):\n",
        "        super().__init__()\n",
        "        self.flatten = nn.Flatten()\n",
        "        self.layers_stack = nn.Sequential(\n",
        "            nn.Linear(28*28, 50),\n",
        "            nn.ReLU(),\n",
        "            nn.Dropout(0.2),\n",
        "            nn.Linear(50, 50),\n",
        "            nn.ReLU(),\n",
        "           # nn.Dropout(0.2),\n",
        "            nn.Linear(50, 50),\n",
        "            nn.ReLU(),\n",
        "           # nn.Dropout(0.2),\n",
        "            nn.Linear(50, 10)\n",
        "        )\n",
        "\n",
        "    def forward(self, x):\n",
        "        x = self.flatten(x)\n",
        "        x = self.layers_stack(x)\n",
        "\n",
        "        return x"
      ]
    },
    {
      "cell_type": "code",
      "execution_count": null,
      "metadata": {
        "id": "iOFCob3ZpoBQ"
      },
      "outputs": [],
      "source": [
        "nonlinear_model = NonlinearClassifier()\n",
        "loss_fn = nn.CrossEntropyLoss()\n",
        "optimizer = torch.optim.SGD(nonlinear_model.parameters(), lr=0.05)"
      ]
    },
    {
      "cell_type": "code",
      "execution_count": null,
      "metadata": {
        "id": "ovacj7U3poBQ"
      },
      "outputs": [],
      "source": [
        "%%time\n",
        "\n",
        "epochs = 5\n",
        "train_acc_all = []\n",
        "val_acc_all = []\n",
        "for j in range(epochs):\n",
        "    train_one_epoch(train_dataloader, nonlinear_model, loss_fn, optimizer)\n",
        "\n",
        "    # checking on the training loss and accuracy once per epoch\n",
        "    acc, loss = evaluate(train_dataloader, nonlinear_model, loss_fn)\n",
        "    train_acc_all.append(acc)\n",
        "    print(f\"Epoch {j}: training loss: {loss}, accuracy: {acc}\")\n",
        "\n",
        "    # checking on the validation loss and accuracy once per epoch\n",
        "    val_acc, val_loss = evaluate(val_dataloader, nonlinear_model, loss_fn)\n",
        "    val_acc_all.append(val_acc)\n",
        "    print(f\"Epoch {j}: val. loss: {val_loss}, val. accuracy: {val_acc}\")"
      ]
    },
    {
      "cell_type": "code",
      "execution_count": null,
      "metadata": {
        "id": "vHM_tWoWpoBQ"
      },
      "outputs": [],
      "source": [
        "pltsize=1\n",
        "plt.figure(figsize=(10*pltsize, 10 * pltsize))\n",
        "plt.plot(range(epochs), train_acc_all,label = 'Training Acc.' )\n",
        "plt.plot(range(epochs), val_acc_all, label = 'Validation Acc.' )\n",
        "plt.xlabel('Epoch #')\n",
        "plt.ylabel('Loss')\n",
        "plt.legend()"
      ]
    },
    {
      "cell_type": "code",
      "execution_count": null,
      "metadata": {
        "id": "UARA5vMWpoBR"
      },
      "outputs": [],
      "source": [
        "show_failures(nonlinear_model, test_dataloader)"
      ]
    },
    {
      "cell_type": "markdown",
      "metadata": {
        "id": "PFlhsb3ppoBR"
      },
      "source": [
        "# Recap\n",
        "To train and validate a neural network model, you need:\n",
        "- Data split into training/validation/test sets,\n",
        "- A model with parameters to learn,\n",
        "- An appropriate loss function,\n",
        "- An optimizer (with tunable parameters such as learning rate, weight decay etc.) used to learn the parameters of the model.\n"
      ]
    },
    {
      "cell_type": "markdown",
      "metadata": {
        "id": "kjpO9ROJpoBR"
      },
      "source": [
        "# Homework"
      ]
    },
    {
      "cell_type": "markdown",
      "metadata": {
        "id": "aqTyq5jdpoBR"
      },
      "source": [
        "1. Compare the quality of your model when using different:\n",
        " - batch sizes,\n",
        " - learning rates,\n",
        " - activation functions.\n",
        "\n",
        "3. Bonus: What is a learning rate scheduler?\n",
        "\n",
        "If you have time, experiment with how to improve the model. Note: training and validation data can be used to compare models, but test data should be saved until the end as a final check of generalization."
      ]
    },
    {
      "cell_type": "code",
      "execution_count": null,
      "metadata": {
        "id": "F_lMdnKqpoBW"
      },
      "outputs": [],
      "source": []
    },
    {
      "cell_type": "code",
      "execution_count": null,
      "metadata": {
        "id": "9qCONCwopoBW"
      },
      "outputs": [],
      "source": []
    }
  ],
  "metadata": {
    "kernelspec": {
      "display_name": "Python 3 (ipykernel)",
      "language": "python",
      "name": "python3"
    },
    "language_info": {
      "codemirror_mode": {
        "name": "ipython",
        "version": 3
      },
      "file_extension": ".py",
      "mimetype": "text/x-python",
      "name": "python",
      "nbconvert_exporter": "python",
      "pygments_lexer": "ipython3",
      "version": "3.7.4"
    },
    "colab": {
      "provenance": []
    }
  },
  "nbformat": 4,
  "nbformat_minor": 0
}